{
 "cells": [
  {
   "cell_type": "markdown",
   "metadata": {},
   "source": [
    "# <font color='blue'> Table Of Contents </font>\n",
    "\n",
    "## <font color='blue'> Library Import  </font>\n",
    "* <font color='blue'> Library Import </font>\n",
    "\n",
    "## <font color='blue'> Connect to Server and Create  Database </font>\n",
    "* <font color='blue'> Define Server Connection Function  </font>\n",
    "* <font color='blue'> Create a New Database </font>\n",
    "* <font color='blue'> Modify Server Connection Function </font>\n",
    "* <font color='blue'> Define Query Execution Function </font>\n",
    "\n",
    "## <font color='blue'> Creating collections  </font>\n",
    "* <font color='blue'> Create basic collection </font>\n",
    "* <font color='blue'> Create derived collection </font>\n",
    "* <font color='blue'> Create raw collection </font>\n",
    "\n",
    "## <font color='blue'> Populating collections  </font>\n",
    "* <font color='blue'> Populate collections with static information </font>\n",
    "\n",
    "## <font color='blue'> Reading Data  </font>\n",
    "* <font color='blue'> Define Data Reading Function </font>\n",
    "* <font color='blue'> Read Data from Database and save in a list </font>\n",
    "\n",
    "## <font color='blue'> Deleting Data  </font>\n",
    "* <font color='blue'> Deleting document </font>\n",
    "* <font color='blue'> Updating the document </font>\n",
    "\n",
    "## <font color='blue'> Simulating Records to insert in aq_data collection  </font>\n",
    "* <font color='blue'> Create insert_multiple Function </font>\n",
    "* <font color='blue'> Add records </font>\n",
    "\n",
    "## <font color='blue'> Aggregation and projection  </font>\n",
    "\n",
    "## <font color='blue'> Conclusion  </font>"
   ]
  },
  {
   "cell_type": "markdown",
   "metadata": {},
   "source": [
    "# <font color='blue'> Pre-requisite </font>\n",
    "\n",
    "In this notebook we are going to go through the various steps that are involved while creating the required database to store the Air-Quality data. \n",
    "\n",
    "This notebook strictly contains the information related to the database connection table creation and data insertion into few of these tables.  \n",
    "\n",
    "A detailed information about the table and their purpose is available in the main notebook. \n",
    "\n",
    "Goal of this notebook is to explain each step involved in the data ingestion and perform certain operation such as inserting single document, multiple documents, updating data of an existing document. \n",
    "\n",
    "For the benefit of the understading, we will discuss each of the method and its application seperately. A companion notebook has all the code available at single place and you can run that script after making some minor changes to create and insert the data in the database. \n",
    "\n",
    "Lets start. "
   ]
  },
  {
   "cell_type": "markdown",
   "metadata": {},
   "source": [
    "## <font color='blue'> Import Libraries  </font>\n",
    "\n",
    "### <font color='blue'> Import Libraries </font>\n",
    "\n",
    "Lets import the [pymongo](https://pymongo.readthedocs.io/en/stable/)"
   ]
  },
  {
   "cell_type": "code",
   "execution_count": 1,
   "metadata": {},
   "outputs": [],
   "source": [
    "from pymongo import MongoClient\n",
    "from bson.objectid import ObjectId\n",
    "import math\n",
    "import random\n",
    "import time\n",
    "import datetime"
   ]
  },
  {
   "cell_type": "markdown",
   "metadata": {},
   "source": [
    "## <font color='blue'> Connect to Server and Create Database </font>\n",
    "\n",
    "### <font color='blue'> Define Server Connection Function </font>\n",
    " \n",
    "Next we want to define a function in python which connects to our MongoDB Server. To do this we use the [MongoClient(f'mongodb://{host}:{port}')]. \n"
   ]
  },
  {
   "cell_type": "code",
   "execution_count": null,
   "metadata": {},
   "outputs": [],
   "source": [
    "def connect_mongo(host, port):\n",
    "\n",
    "\tmongo_client = None\n",
    "\ttry:\n",
    "\t\tmongo_client =  MongoClient(f'mongodb://{host}:{port}')\n",
    "\t\tprint(\"Connection successful\")\n",
    "\t\treturn mongo_client\n",
    "\texcept Exception as e:\n",
    "\t\tprint(\"An exception occurred ::\", e)\n",
    "\t\treturn False"
   ]
  },
  {
   "cell_type": "markdown",
   "metadata": {},
   "source": [
    "### <font color='blue'> Create a New Database </font>\n",
    "\n",
    "Now lets have a look at the commands that will create the database on our server. Here we will be using the connection we received using connect_mongo method. \n",
    "\n",
    "Execution of this method coupled with the next statements will create the schema and the collections in the mongodb server. "
   ]
  },
  {
   "cell_type": "code",
   "execution_count": null,
   "metadata": {},
   "outputs": [],
   "source": [
    "    HOST = '127.0.0.1'\n",
    "\tPORT = '27017'\n",
    "\tDB_NAME = 'air_quality_db'\n",
    "\tDEVICE_COLLECTION = 'devices'\n",
    "\tUSERS_COLLECTION = 'users'\n",
    "\tREPLOCATION_COLLECTION = 'replocation'\n",
    "\tAREA_COLLECTION = 'area'\n",
    "\tAQ_DATA_COLLECTION = 'aq_data'\n",
    "\tUSERS_ACCESS_COLLECTION = \"users_location\"\n",
    "\tUSERS_ACCESS_ENTITY_COLLECTION = \"users_entity\"\n",
    "\t\n",
    "\tdb_conn = connect_mongo(HOST, PORT)\n",
    "\tdb_conn.drop_database(DB_NAME)"
   ]
  },
  {
   "cell_type": "markdown",
   "metadata": {},
   "source": [
    "This step is important and required if schmema is not available in the server. Before creating the database/schema in the server we need to make sure that currently it does not have that schema in place. So we need to perform drop operation for the database_name we want to create. \n"
   ]
  },
  {
   "cell_type": "markdown",
   "metadata": {},
   "source": [
    "### <font color='blue'> Define Query Execution Function </font>\n",
    "\n",
    "The final step of this stage is to create a function which will allow us to execute queries written in SQL. This is going to be extremely useful!\n",
    "\n",
    "Again, we use [pyongo_queries()](https://pymongo.readthedocs.io/en/stable/tutorial.html) to execute our commands."
   ]
  },
  {
   "cell_type": "code",
   "execution_count": null,
   "metadata": {},
   "outputs": [],
   "source": [
    "def insert_single(collection, data):\n",
    "\ttry:\n",
    "\t\tif data is None:\n",
    "\t\t\tprint(\"No data is available.\")\n",
    "\t\telse:\n",
    "\t\t\tresult = collection.insert_one(data)\n",
    "\t\t\tprint(result.inserted_id)\n",
    "\t\t\tprint(\"Query successful\")\n",
    "\t\t\treturn True\n",
    "\texcept Exception as e:\n",
    "\t\tprint(\"An exception occurred ::\", e)\n",
    "\t\treturn False"
   ]
  },
  {
   "cell_type": "markdown",
   "metadata": {},
   "source": [
    "## <font color='blue'>  Inserting documents </font>\n",
    "\n",
    "In this segment we will be inserting the documents in the created collections over the server. As it has been mentioned above that we have collections that will hold the data related to area, location, devices, users and their permission information. \n",
    "\n",
    "### <font color='blue'> Basic Collections </font>\n",
    "\n",
    "In this databse we have designed it to more efficient for our use case so that thes collections can serve the purpose according to the application. \n",
    "\n",
    "### <font color='blue'> Derived Colllections </font>\n",
    "\n",
    "The following tables are the ones who we have created for ease of access and based on application requirement. You can find the requirement and purpose of each table in detail in the main notebook. "
   ]
  },
  {
   "cell_type": "code",
   "execution_count": null,
   "metadata": {},
   "outputs": [],
   "source": [
    "\tdb = db_conn[DB_NAME]\n",
    "\tdevice_collection = db[DEVICE_COLLECTION]\n",
    "\tusers_collection = db[USERS_COLLECTION]\n",
    "\treplocation_collection = db[REPLOCATION_COLLECTION]\n",
    "\tarea_collection = db[AREA_COLLECTION]\n",
    "\taq_data_collection = db[AQ_DATA_COLLECTION]\n",
    "\tusers_access_collection = db[USERS_ACCESS_COLLECTION]\n",
    "\tusers_access_entity_collection = db[USERS_ACCESS_ENTITY_COLLECTION]"
   ]
  },
  {
   "cell_type": "markdown",
   "metadata": {},
   "source": [
    "### <font color='blue'> Raw data collection </font>\n",
    "\n",
    "Here we are looking at the tables we designed to hold the data recieved from different sensors/devices. Again the relevant information and purpose of each of the table is different and significant because of the application.  "
   ]
  },
  {
   "cell_type": "markdown",
   "metadata": {},
   "source": [
    "Executing the following statment that will insert the following documents in relevant collections. "
   ]
  },
  {
   "cell_type": "markdown",
   "metadata": {},
   "source": [
    "## <font color='blue'> Populating Collection with documents  </font>\n",
    "\n",
    "In this section we are going to perform insert operation over the several tables. Lets look at those operatio in detail. Esssentially we will be populate the following tables currently. Here all the data will be hardcoded and already available. if you want to take a different approach and make it more intutive you can accept these data points from client as well.  \n",
    "\n",
    "* area\n",
    "* users\n",
    "* replocation\n",
    "* devices\n",
    "* users_location_access\n",
    "* user_access_control\n",
    "\n",
    "### <font color='blue'> Populate collections with static information </font>"
   ]
  },
  {
   "cell_type": "code",
   "execution_count": null,
   "metadata": {},
   "outputs": [],
   "source": [
    "# inserting data in User collection \n",
    "\tprint(f\"Inserting data in: '{users_collection}'\")\n",
    "\tuser_1 = {\"_id\":\"U101\",\"user_name\": \"john\", \"email\": \"john@office.com\",\"phone_no\": \"1872681\", \"address\": \"newyork\"}\n",
    "\tuser_2 = {\"_id\":\"U102\",\"user_name\":\"bob\",\"email\":\"bob@office.com\",\"phone_no\":\"1872661\",\"address\":\"nashua\"}\n",
    "\tuser_3 = {\"_id\":\"U103\",\"user_name\":\"micheal\",\"email\":\"micheal@office.com\",\"phone_no\":\"9816221\",\"address\":\"scranton\"}\n",
    "\tuser_4 = {\"_id\":\"U104\",\"user_name\":\"dwight\",\"email\":\"dwight@office.com\",\"phone_no\":\"9876121\",\"address\":\"scranton\"}\n",
    "\tuser_5 = {\"_id\":\"U105\",\"user_name\":\"jim\",\"email\":\"jim@office.com\",\"phone_no\":\"8897122\",\"address\":\"scranton\"}\n",
    "\n",
    "\tinsert_single(users_collection, user_1)\n",
    "\tinsert_single(users_collection, user_2)\n",
    "\tinsert_single(users_collection, user_3)\n",
    "\tinsert_single(users_collection, user_4)\n",
    "\tinsert_single(users_collection, user_5)\n",
    "\tprint('\\n')\n",
    "\n",
    "\t# Inserting data in area table\n",
    "\t# this table is intertwined with the location collection. Each area can have multiple location under it. \n",
    "\t# This information is also saved in the collection. \n",
    "\tprint(f\"Inserting data in: '{area_collection}'\")\n",
    "\n",
    "\tarea_1 = {\"_id\":\"A12901\",\"area_description\":\"Hospital area\",\"locations\":[\"L1201A\",\"L1202B\"]}\n",
    "\tarea_2 = {\"_id\":\"A12903\",\"area_description\":\"School area\",\"locations\":[\"L1202B\",\"L1203A\"]}\n",
    "\tarea_3 = {\"_id\":\"A12904\",\"area_description\":\"Secondary school area\",\"locations\":[\"L1208A\"]}\n",
    "\tarea_4 = {\"_id\":\"A12973\",\"area_description\":\"Cantonment area\",\"locations\":[\"L1238B\"]}\n",
    "\tarea_5 = {\"_id\":\"A12341\",\"area_description\":\"Traffic area\",\"locations\":[\"L1238B\"]}\n",
    "\n",
    "\tinsert_single(area_collection, area_1)\n",
    "\tinsert_single(area_collection, area_2)\n",
    "\tinsert_single(area_collection, area_3)\n",
    "\tinsert_single(area_collection, area_4)\n",
    "\tinsert_single(area_collection, area_5)\n",
    "\tprint('\\n')\n",
    "\n",
    "\t# inserting data in device collection. This table will have basic device realted information. \n",
    "\t# Every document in the collection will also contain the information related to the installation and location of each device. \n",
    "\n",
    "\tprint(f\"Inserting data in: '{device_collection}'\")\t\n",
    "\tdevice_1 = {\"_id\":\"1001\",\"device_type\":\"pm sensor\",\"mfr\":\"PLC group\",\"serial_no\":\"A1231\",\"yom\":\"2018\",\"location_id\":\"L1201A\",\"installation_timestamp\":{\"timestamp\": datetime.datetime.now().strftime(\"%Y-%m-%d\")},\"is_active\":\"yes\"}\n",
    "\tdevice_2 = {\"_id\":\"1002\",\"device_type\":\"pm sensor\",\"mfr\":\"sensenext\",\"serial_no\":\"B1231\",\"yom\":\"2019\",\"location_id\":\" L1202B\",\"installation_timestamp\":{\"timestamp\":datetime.datetime.now().strftime(\"%Y-%m-%d\")},\"is_active\":\"yes\"}\n",
    "\tdevice_3 = {\"_id\":\"1003\",\"device_type\":\"pm sensor\",\"mfr\":\"PLC group\",\"serial_no\":\"A1232\",\"yom\":\"2019\",\"location_id\":\"L1203A\",\"installation_timestamp\":{\"timestamp\":datetime.datetime.now().strftime(\"%Y-%m-%d\")},\"is_active\":\"yes\"}\n",
    "\tdevice_4 = {\"_id\":\"1004\",\"device_type\":\"pm sensor\",\"mfr\":\"sensenext\",\"serial_no\":\"B1232\",\"yom\":\"2019\",\"location_id\":\"L1208A\",\"installation_timestamp\":{\"timestamp\":datetime.datetime.now().strftime(\"%Y-%m-%d\")},\"is_active\":\"yes\"}\n",
    "\tdevice_5 = {\"_id\":\"1005\",\"device_type\":\"pm sensor\",\"mfr\":\"PLC group\",\"serial_no\":\"A1233\",\"yom\":\"2020\",\"location_id\":\" L1238B\",\"installation_timestamp\":{\"timestamp\":datetime.datetime.now().strftime(\"%Y-%m-%d\")},\"is_active\":\"yes\"}\n",
    "\n",
    "\tinsert_single(device_collection, device_1)\n",
    "\tinsert_single(device_collection, device_2)\n",
    "\tinsert_single(device_collection, device_3)\n",
    "\tinsert_single(device_collection, device_4)\n",
    "\tinsert_single(device_collection, device_5)\n",
    "\tprint('\\n')\n",
    "\n",
    "\t# This collection will hold the information about the collection. Each document will hold the data of device id as well. \n",
    "\t# Here _id will represent the location id for each of the document. \n",
    "\n",
    "\tprint(f\"Inserting data in: '{replocation_collection}'\")\t\n",
    "\tlocation_1 = {\"_id\":\"L1201A\",\"lat\":78.32,\"long\":87.32,\"location_name\":\"District Police station\",\"description\":\"Public place\",\"location_type\":\"Public space\",\"device_id\":\"1001\",\"areas\":[\"A12901\",\"A12903 \"]}\n",
    "\tlocation_2 = {\"_id\":\"L1202B\",\"lat\":79.3,\"long\":88.4,\"location_name\":\"District Hospital \",\"description\":\"Public place for medically cared people\",\"location_type\":\"public place\",\"device_id\":\"1002\",\"areas\":[\"A12904\"]}\n",
    "\tlocation_3 = {\"_id\":\"L1203A\",\"lat\":81.34,\"long\":90.5,\"location_name\":\"District school\",\"description\":\"Primary school\",\"location_type\":\"primary school for children's\",\"device_id\":\"1003\",\"areas\":[\"A12973\",\"A12341\"]}\n",
    "\tlocation_4 = {\"_id\":\"L1208A\",\"lat\":89.45,\"long\":132.45,\"location_name\":\"District secondary school\",\"description\":\"District school\",\"location_type\":\"Secondary school\",\"device_id\":\"1004\",\"areas\":[\"A12973\"]}\n",
    "\tlocation_5 = {\"_id\":\"L1238B\",\"lat\":109.34,\"long\":129.8,\"location_name\":\"Ring road - 1\",\"description\":\"cross road\",\"location_type\":\"cross road\",\"device_id\":\"1005\",\"areas\":[\"A12341\"]}\n",
    "\n",
    "\tinsert_single(replocation_collection, location_1)\n",
    "\tinsert_single(replocation_collection, location_2)\n",
    "\tinsert_single(replocation_collection, location_3)\n",
    "\tinsert_single(replocation_collection, location_4)\n",
    "\tinsert_single(replocation_collection, location_5)\n",
    "\tprint('\\n')\n",
    "\n",
    "\t# This collection will hold the information of user access for different type of collection. \n",
    "\t# The collection is designed to hold the arrray of location access permission for location id in each of the document. \n",
    "\t# Similar array will be there for other resources such as device and area. \n",
    "\n",
    "\tprint(f\"Inserting data in: '{users_access_collection}'\")\t\n",
    "\tuser_access_1 = {\"_id\":\"U101\",\"email\":\"john@office.com\",\"location_access\":[{\"location_id\":\"L1201A\",\"access_type\":\"Normal\"},{\"location_id\":\"L1202B\",\"access_type\":\"Admin\"}],\"area_access\":[{\"area_id\":\"A12901\",\"access_type\":\"Normal\"},{\"area_id\":\"A12903\",\"access_type\":\"Normal\"}],\"device_access\":[{\"device_id\":\"1001\",\"access_type\":\"Normal\"}]}\n",
    "\tuser_access_2 = {\"_id\":\"U102\",\"email\":\"bob@office.com\",\"location_access\":[{\"location_id\":\"L1208A\",\"access_type\":\"Admin\"}],\"area_access\":[{\"area_id\":\"A12904\",\"access_type\":\"Admin\"}],\"device_access\":[{\"device_id\":\"1003\",\"access_type\":\"Admin\"}]}\n",
    "\tuser_access_3 = {\"_id\":\"U103\",\"email\":\"micheal@office.com\",\"location_access\":[{\"location_id\":\"L1202B\",\"access_type\":\"Admin\"}],\"area_access\":[{\"area_id\":\"A12341\",\"access_type\":\"Admin\"}],\"device_access\":[{\"device_id\":\"1004\",\"access_type\":\"Normal\"}]}\n",
    "\tuser_access_4 = {\"_id\":\"U104\",\"email\":\"dwight@office.com\",\"location_access\":[{\"location_id\":\"L1201B\",\"access_type\":\"Normal\"},{\"location_id\":\"L1203A\",\"access_type\":\"Admin\"}],\"area_access\":[{\"area_id\":\"A12973\",\"access_type\":\"Normal\"}],\"device_access\":[{\"device_id\":\"1005\",\"access_type\":\"Normal\"}]}\n",
    "\tuser_access_5 = {\"_id\":\"U105\",\"email\":\"jim@office.com\",\"location_access\":[{\"location_id\":\"L1208A\",\"access_type\":\"Admin\"},{\"location_id\":\"L1238B\",\"access_type\":\"Admin\"}],\"area_access\":[{\"area_id\":\"A12341\",\"access_type\":\"Admin\"}],\"device_access\":[{\"device_id\":\"1005\",\"access_type\":\"Admin\"}]}\n",
    "\n",
    "\tinsert_single(users_access_collection, user_access_1)\n",
    "\tinsert_single(users_access_collection, user_access_2)\n",
    "\tinsert_single(users_access_collection, user_access_3)\n",
    "\tinsert_single(users_access_collection, user_access_4)\n",
    "\tinsert_single(users_access_collection, user_access_5)\n",
    "\tprint('\\n')\n",
    "\n",
    "\t# This collection is designed to hold the information of user access. \n",
    "\t# The data available here will be in form of an object. Here array will be designed to hold the data of every entity type. \n",
    "\t# It will help in improving the overall performance.   \n",
    "\n",
    "\tprint(f\"Inserting data in: '{users_access_entity_collection}'\")\t\n",
    "\tuser_entity_access_1 = {\"_id\":\"U101\",\"email\":\"john@office.com\",\"entity_list\":[{\"entity_id\":\"1001\",\"entity_type\":\"device\",\"access_type\":\"Admin\"},{\"entity_id\":\"L1201A\",\"entity_type\":\"location\",\"access_type\":\"Admin\"}]}\n",
    "\tuser_entity_access_2 = {\"_id\":\"U102\",\"email\":\"bob@office.com\",\"entity_list\":[{\"entity_id\":\"1002\",\"entity_type\":\"device\",\"access_type\":\"Normal\"},{\"entity_id\":\"L1202B\",\"entity_type\":\"location\",\"access_type\":\"Normal\"}]}\n",
    "\n",
    "\tinsert_single(users_access_entity_collection, user_entity_access_1)\n",
    "\tinsert_single(users_access_entity_collection, user_entity_access_2)\n",
    "\tprint('\\n')\n"
   ]
  },
  {
   "cell_type": "markdown",
   "metadata": {},
   "source": [
    "## <font color='blue'>  Reading Data </font>\n",
    "\n",
    "### <font color='blue'> Define Data Reading Function </font>\n",
    "\n",
    "Now that we have populated our tables, it's time to start creating read queries. To do this, we will need a new function."
   ]
  },
  {
   "cell_type": "code",
   "execution_count": null,
   "metadata": {},
   "outputs": [],
   "source": [
    "# retrieving the data from the table based on the given query\n",
    "def find_single(collection, data):\n",
    "\ttry:\n",
    "\t\tif data is None:\n",
    "\t\t\tprint(\"No data is available. Please provide the data.\")\n",
    "\t\telse:\n",
    "\t\t\tresult = collection.find_one(data)\n",
    "\t\t\tprint(\"Query successful\")\n",
    "\t\t\treturn result\n",
    "\texcept Exception as e:\n",
    "\t\tprint(\"An exception occurred ::\", e)\n",
    "\t\treturn False"
   ]
  },
  {
   "cell_type": "markdown",
   "metadata": {},
   "source": [
    "### <font color='blue'> Read from database </font>"
   ]
  },
  {
   "cell_type": "code",
   "execution_count": null,
   "metadata": {
    "run_control": {
     "marked": false
    }
   },
   "outputs": [],
   "source": [
    "\t# Query to find a single data from the Database\n",
    "\tquery_data = {'serial_no':'A1231'}\n",
    "\tdata = find_single(device_collection, query_data)\n",
    "\tprint(data)\n",
    "\n",
    "\tquery_data = {'_id':'U102'}\n",
    "\tdata = find_single(users_access_entity_collection, query_data)\n",
    "\tprint(data)\n",
    "\n",
    "\tquery_data = {'_id':'U102'}\n",
    "\tdata = find_single(users_access_collection, query_data)\n",
    "\tprint(data)\n",
    "\t"
   ]
  },
  {
   "cell_type": "markdown",
   "metadata": {},
   "source": [
    "In the above mentioned examples we can see that we are retrieving the document and then just priting it on the console. The fetched data will be in dcitionary format, we can save it based on requirement and use in future. This method/function will return the first matche document from the collection. \n",
    "\n",
    "We can also retrieve multiple documents from the collection. Lets have a look at the method and how to use it. "
   ]
  },
  {
   "cell_type": "markdown",
   "metadata": {},
   "source": [
    "### <font color='blue'> Multiple document reading function </font>\n",
    "\n",
    "This method will return all the record that matched with the given data. Below is how that method is defined. We will also see how we are calling this method and vieweing the records on the console. "
   ]
  },
  {
   "cell_type": "code",
   "execution_count": null,
   "metadata": {},
   "outputs": [],
   "source": [
    "def find_multiple(collection, data):\n",
    "\ttry:\n",
    "\t\tif data is None:\n",
    "\t\t\tprint(\"No data is available. Please provide the data.\")\n",
    "\t\telse:\n",
    "\t\t\tresult = collection.find(data)\n",
    "\t\t\tprint(\"Query successful\")\n",
    "\t\t\treturn result\n",
    "\texcept Exception as e:\n",
    "\t\tprint(\"An exception occurred ::\", e)\n",
    "\t\treturn False"
   ]
  },
  {
   "cell_type": "code",
   "execution_count": null,
   "metadata": {},
   "outputs": [],
   "source": [
    "\t# Query to find multiple records from the Database\n",
    "\tprint(\"Performing multiple find operation in the database. \")\n",
    "\tquery_data = {'device_type':'pm sensor'}\n",
    "\tresult = find_multiple(device_collection, query_data)\n",
    "\tdevice_config = []\n",
    "\tlocation_config = []\n",
    "\tfor doc in result:\n",
    "\t\tprint(doc)\n",
    "\t\tdevice_config.append(doc['serial_no'])\n",
    "\t\tlocation_config.append(doc['location_id'])\n",
    "\tprint('\\n')\n"
   ]
  },
  {
   "cell_type": "markdown",
   "metadata": {},
   "source": [
    "## <font color='blue'> Deleting documents  </font>\n",
    "\n",
    "In this section we are going to see how we can delete a document from the collection. \n",
    "\n",
    "Lets see how the delete method looks like and how to call this method to perform that operation.There are two ways to do that either you can delet a single record, whatever ffirst matched document or delete all the documents that matches with the given object.  \n",
    "\n",
    "### <font color='blue'> Deleting single document from a collection </font>"
   ]
  },
  {
   "cell_type": "code",
   "execution_count": null,
   "metadata": {},
   "outputs": [],
   "source": [
    "def delete_single(collection, data):\n",
    "\ttry:\n",
    "\t\tif data is None:\n",
    "\t\t\tprint(\"No data is available. Please provide the data.\")\n",
    "\t\telse:\n",
    "\t\t\tresult = collection.delete_one(data)\n",
    "\t\t\tprint(\"Query successful\")\n",
    "\t\t\treturn result\n",
    "\texcept Exception as e:\n",
    "\t\tprint(\"An exception occurred ::\", e)\n",
    "\t\treturn False\n"
   ]
  },
  {
   "cell_type": "code",
   "execution_count": null,
   "metadata": {},
   "outputs": [],
   "source": [
    "\tquery_data = {'_id':'A12341'}\n",
    "\tdata = delete_single(area_collection, query_data)\n",
    "\tprint(data)"
   ]
  },
  {
   "cell_type": "markdown",
   "metadata": {},
   "source": [
    "Above given code will simply delete the first matched record from the collection with the given query_data. Next we will see deletion of multiple documents from the collection. \n",
    "\n",
    "### <font color='blue'> Deleting multiple document from a collection </font>"
   ]
  },
  {
   "cell_type": "code",
   "execution_count": null,
   "metadata": {},
   "outputs": [],
   "source": [
    "def delete_multiple(collection, data):\n",
    "\ttry:\n",
    "\t\tif data is None:\n",
    "\t\t\tprint(\"No data is available. Please provide the data.\")\n",
    "\t\telse:\n",
    "\t\t\tresult = collection.delete_many(data)\n",
    "\t\t\tprint(\"Query successful\")\n",
    "\t\t\treturn result\n",
    "\texcept Exception as e:\n",
    "\t\tprint(\"An exception occurred ::\", e)\n",
    "\t\treturn False"
   ]
  },
  {
   "cell_type": "code",
   "execution_count": null,
   "metadata": {},
   "outputs": [],
   "source": [
    "\t# Deleting multiple records from the device collection\n",
    "\t# Uncommenting this will delete all the dicuments from the collection\n",
    "\t# Hence it would ultimately result in not ineserting anything in the database.\n",
    "\t\n",
    "\tquery_data = {\"device_type\":\"pm sensor\"}\n",
    "\tdata = delete_multiple(device_collection, query_data)\n",
    "\tprint(data)"
   ]
  },
  {
   "cell_type": "markdown",
   "metadata": {},
   "source": [
    "In the main code these commands are deliberately put as a comment. If you uncomment it, data will not be inserted in the document because these commands will delete all the device data from the collection. "
   ]
  },
  {
   "cell_type": "markdown",
   "metadata": {},
   "source": [
    "### <font color='blue'> Updating single document in a collection </font>\n",
    "\n",
    "We can also perform update operation on the inserted document in any of the given collection. To perform this operation we need to pass data that needs to be updated along with the value it is getting updated with. \n",
    "\n",
    "Lets have a look at the method and how we are calling those methods.\n",
    "\n"
   ]
  },
  {
   "cell_type": "code",
   "execution_count": null,
   "metadata": {},
   "outputs": [],
   "source": [
    "def single_update(collection, query_data, update_data):\n",
    "\ttry:\n",
    "\t\tif data is None:\n",
    "\t\t\tprint(\"No data is available. Please provide the data.\")\n",
    "\t\telse:\n",
    "\t\t\tresult = collection.update_one(query_data, update_data)\n",
    "\t\t\tprint(\"Query successful\")\n",
    "\t\t\treturn result\n",
    "\texcept Exception as e:\n",
    "\t\tprint(\"An exception occurred ::\", e)"
   ]
  },
  {
   "cell_type": "code",
   "execution_count": null,
   "metadata": {},
   "outputs": [],
   "source": [
    "\tprint(\"Performing Update operation on the database\")\n",
    "\tfilter = {'serial_no':'A1231', 'mfr' : 'PLC group'}\n",
    "\tdata = {'$set': {'is_active': 'No'}}\n",
    "\tresult = single_update(device_collection, filter, data)\n",
    "\tprint(result.acknowledged)\n",
    "\tprint('\\n')"
   ]
  },
  {
   "cell_type": "markdown",
   "metadata": {},
   "source": [
    "Above operation will find the document in the given collection and then perform the update operation over that data. "
   ]
  },
  {
   "cell_type": "markdown",
   "metadata": {},
   "source": [
    "## <font color='blue'> Simulating Records to insert in aq_data collection  </font>\n",
    "\n",
    "In this step we are going to simulate the data creation and insertion in the database. Lets see the code that is creating the and pushing the data for us in the aq_data collection. \n",
    "\n",
    "### <font color='blue'> Create insert_multiple Function </font>"
   ]
  },
  {
   "cell_type": "markdown",
   "metadata": {},
   "source": [
    "Function definition to insert multiple record available here. Essentially this function is using a method named as insert_many to insert multiple records in the database. "
   ]
  },
  {
   "cell_type": "code",
   "execution_count": null,
   "metadata": {},
   "outputs": [],
   "source": [
    "# performing the execute many query over the table, \n",
    "# this method will help us to inert multiple records using a single instance\n",
    "\n",
    "def insert_multiple(collection, data):\n",
    "\ttry:\n",
    "\t\tif data is None:\n",
    "\t\t\tprint(\"No data is available.\")\n",
    "\t\telse:\n",
    "\t\t\tresult = collection.insert_many(data)\n",
    "\t\t\tprint(result.inserted_ids)\n",
    "\t\t\tprint(\"Query successful\")\n",
    "\t\t\treturn True\n",
    "\texcept Exception as e:\n",
    "\t\tprint(\"An exception occurred ::\", e)\n",
    "\t\treturn False"
   ]
  },
  {
   "cell_type": "markdown",
   "metadata": {},
   "source": [
    "For a successful insertion of data for multiple devices we are going to create a dictionary that will have all the rewuired key-value pairs that needs to be inserted in the database. \n",
    "\n",
    "After doing that we are creating a variable of type list that will hold the records that will be inserted in the database. \n",
    "\n",
    "If you look at the while loop closely, you can see that we are running this unless there is any interrupt from the user. After coming out of the loop all the data points will be inserted in the table.\n",
    "\n",
    "In this code, we can see that sleep time is 1 second, it means that we have new data at every 1 second. "
   ]
  },
  {
   "cell_type": "code",
   "execution_count": null,
   "metadata": {},
   "outputs": [],
   "source": [
    "# Creating the data \n",
    "\tprint(\"Data creation is in progress: \")\n",
    "\tprint(\"Type Ctrl + C to exit data creation.\")\n",
    "\taq_data = []\n",
    "\tclock = 0\n",
    "\twhile True:\n",
    "\t\ttry:\n",
    "\t\t\ttime.sleep(1)\n",
    "\t\t\tfor i in range(len(device_config)):\n",
    "\t\t\t\tclock = clock + 1\t\n",
    "\t\t\t\tdata = {\n",
    "\t\t\t\t\t'_id' : clock,\n",
    "\t\t\t\t\t'serial_no': device_config[i],\n",
    "\t\t\t\t\t'location_id': location_config[i],\n",
    "\t\t\t\t\t'pm25': int(random.uniform(95.5, 105.5)),\n",
    "\t\t\t\t\t'pm10': int(random.uniform(190, 210)),\n",
    "\t\t\t\t\t'co': int(random.uniform(70.5, 85.5)),\n",
    "\t\t\t\t\t'so2':int(random.uniform(60, 90)),\n",
    "\t\t\t\t\t'o3': int(random.uniform(0.5, 3.5)),\n",
    "\t\t\t\t\t'collection_time' : datetime.datetime.now()\n",
    "\t\t\t\t}\n",
    "\t\t\t\taq_data.append(data)\n",
    "\t\texcept KeyboardInterrupt:\n",
    "\t\t\tbreak\n",
    "\n",
    "\tprint(\"Data insertion is in progress: \")\n",
    "\tinsert_multiple(aq_data_collection, aq_data)\n",
    "\tprint(\"Data Inserted\")"
   ]
  },
  {
   "cell_type": "markdown",
   "metadata": {},
   "source": [
    "## <font color='blue'> Aggregation & Projection  </font>\n",
    "\n",
    "In this section we are going to see some of the complex queries related to aggregation and projection over the mongodb. The idea here is to simply mimic some of the queries similar to what we can do in sql databases. \n",
    "\n",
    "Below someo of the pipeline queries are mentioned. If you look closely, you will see different arguments being passed in each of the queries. \n",
    "\n",
    "Let's have a look at the explanation of some of the queries. More detailed information is available here [aggregation pipeline](https://docs.mongodb.com/manual/reference/operator/aggregation-pipeline/)"
   ]
  },
  {
   "cell_type": "code",
   "execution_count": null,
   "metadata": {},
   "outputs": [],
   "source": [
    "\tpipeline1 = [\n",
    "\t\t{\n",
    "\t\t\t'$match': {'serial_no':'A1231'}\n",
    "\t\t}\n",
    "\t]\n",
    "\n",
    "\tpipeline2 = [\n",
    "\t\t{\n",
    "\t\t\t'$match': {'serial_no':'A1231', 'pm10': {'$gte': 100}}\n",
    "\t\t}\n",
    "\t]\n",
    "\tpipeline3 = [\n",
    "\t\t{\n",
    "\t\t\t'$match': {'pm10': {'$gte': 100}}\n",
    "\t\t},\n",
    "\t\t{\n",
    "\t\t\t'$group': {'_id': '$serial_no', 'total_value': {\"$sum\": \"$pm10\"}}\n",
    "\t\t}\n",
    "\t]\n",
    "\tpipeline4 = [\n",
    "\t\t{\n",
    "\t\t\t'$match': {'serial_no':'A1231'}\n",
    "\t\t},\n",
    "\t\t{\n",
    "\t\t\t'$group': {'_id': {\n",
    "\t\t\t\t\t\t\t\t'serial_no': '$serial_no',\n",
    "\t\t\t\t\t\t\t\t'day': {'$dateToString': {'format': '%Y-%m-%d', 'date': '$collection_time'}},\n",
    "\t\t\t\t\t\t\t\t}, \n",
    "\t\t\t\t\t\t\t'total_value': {\"$sum\": \"$pm10\"},\n",
    "\t\t\t\t\t\t\t'total_count': {\"$sum\": 1}\n",
    "\t\t\t\t\t\t}\n",
    "\t\t}\n",
    "\t]\n",
    "\n",
    "\tpipeline5 = [\n",
    "\t\t{\n",
    "\t\t\t'$match': {'serial_no':'A1231'}\n",
    "\t\t},\n",
    "\t\t{\n",
    "\t\t\t'$group': {'_id': {\n",
    "\t\t\t\t\t\t\t\t'serial_no': '$serial_no',\n",
    "\t\t\t\t\t\t\t\t'day': {'$dateToString': {'format': '%Y-%m-%d', 'date': '$collection_time'}},\n",
    "\t\t\t\t\t\t\t\t}, \n",
    "\t\t\t\t\t\t\t'total_value': {\"$sum\": \"$pm10\"},\n",
    "\t\t\t\t\t\t\t'total_count': {\"$sum\": 1}\n",
    "\t\t\t\t\t\t}\n",
    "\t\t},\n",
    "\t\t{\n",
    "\t\t\t'$project': {\n",
    "\t\t\t\t'serial_no': '$_id.serial_no',\n",
    "\t\t\t\t'date': '$_id.day',\n",
    "\t\t\t\t'sum': '$total_value',\n",
    "\t\t\t\t'count': '$total_count',\n",
    "\t\t\t\t'_id': 0\n",
    "\t\t\t\t}\n",
    "\t\t\t},\n",
    "\t\t{\n",
    "\t\t\t'$sort': {'serial_no': 1, 'date': 1}\n",
    "\t\t}\n",
    "\t]\n"
   ]
  },
  {
   "cell_type": "markdown",
   "metadata": {},
   "source": [
    "In **pipeline1**, its a very simple match command, where we are passing the serial_no that needs to be looked into the document. To make these pipeline queries work we are calling below method that is internally utilizing the aggregate method of pymongo. This query will simply match the given data with all the available documents and return the cursor for accessing. Later we are just itertaing it printing the data. \n"
   ]
  },
  {
   "cell_type": "code",
   "execution_count": null,
   "metadata": {},
   "outputs": [],
   "source": [
    "def aggregate_data(collection, query):\n",
    "\n",
    "\ttry:\n",
    "\t\tif data is None:\n",
    "\t\t\tprint(\"No data is available. Please provide the data.\")\n",
    "\t\telse:\n",
    "\t\t\tresult = collection.aggregate(query)\n",
    "\t\t\tprint(\"Query successful\")\n",
    "\t\t\treturn result\n",
    "\texcept Exception as e:\n",
    "\t\tprint(\"An exception occurred ::\", e)\n",
    "\t\treturn False\n"
   ]
  },
  {
   "cell_type": "markdown",
   "metadata": {},
   "source": [
    "In **pipeline2**, again we are matching the data but now we are passing one more condition where we are looking for only those documents where pm10 value is greater than equal to 100. \n",
    "\n",
    "In **pipeline3**, it is a more evolved version of pipeline operation. Here we are using group method as well to complete a particular task. The idea behind this is to find all the record that has pm10 greater than 200 and pm25 with value greater than 100. Result of this is then grouped by serial_no as their id and total_value is sum of the matched record. This will create a single entry for each serial_no. Again we are iterating ther eturned data to access each record.  \n",
    "\n",
    "Gradually, we are increasing the level of complexity and using different concepts to perform aggregate operation. Have a look at pipeline4 and pipeline5.  "
   ]
  },
  {
   "cell_type": "markdown",
   "metadata": {},
   "source": [
    "## <font color='blue'> Conclusion  </font>"
   ]
  },
  {
   "cell_type": "markdown",
   "metadata": {},
   "source": [
    "This notebook walks you through the various operation we can do on the database. As of now we saw operation such as create, read, Update and delete on the database.\n",
    "\n",
    "If you look at the main notebook there are exercices mentioned by us that as a learner you can explore and implement with the help of the methods and data we created in this notebook. \n",
    "\n",
    "Alternatively you can run the source code notebook that will create the database, collection along with the data inside those collections. \n",
    "\n",
    "Copy the code available in other notebook save it as main.py or database.py and run it as simple python file, it will establish the connection and perform the tasks we discussed above. \n"
   ]
  }
 ],
 "metadata": {
  "kernelspec": {
   "display_name": "Python 3",
   "language": "python",
   "name": "python3"
  },
  "language_info": {
   "codemirror_mode": {
    "name": "ipython",
    "version": 3
   },
   "file_extension": ".py",
   "mimetype": "text/x-python",
   "name": "python",
   "nbconvert_exporter": "python",
   "pygments_lexer": "ipython3",
   "version": "3.8.5"
  }
 },
 "nbformat": 4,
 "nbformat_minor": 4
}
